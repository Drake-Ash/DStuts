{
  "nbformat": 4,
  "nbformat_minor": 0,
  "metadata": {
    "colab": {
      "name": "Untitled2.ipynb",
      "version": "0.3.2",
      "provenance": [],
      "include_colab_link": true
    },
    "kernelspec": {
      "name": "python3",
      "display_name": "Python 3"
    },
    "accelerator": "GPU"
  },
  "cells": [
    {
      "cell_type": "markdown",
      "metadata": {
        "id": "view-in-github",
        "colab_type": "text"
      },
      "source": [
        "<a href=\"https://colab.research.google.com/github/Drake-Ash/DStuts/blob/master/week1/vid3.ipynb\" target=\"_parent\"><img src=\"https://colab.research.google.com/assets/colab-badge.svg\" alt=\"Open In Colab\"/></a>"
      ]
    },
    {
      "metadata": {
        "id": "GDZPaHM1EaEl",
        "colab_type": "code",
        "colab": {
          "base_uri": "https://localhost:8080/",
          "height": 340
        },
        "outputId": "0e4b27c6-5282-4f0b-8439-a6c2cefdd572"
      },
      "cell_type": "code",
      "source": [
        "#Depencies used for a movie recommendation system\n",
        "!pip3 install numpy\n",
        "!pip3 install scipy\n",
        "!pip3 install lightfm"
      ],
      "execution_count": 2,
      "outputs": [
        {
          "output_type": "stream",
          "text": [
            "Requirement already satisfied: numpy in /usr/local/lib/python3.6/dist-packages (1.14.6)\n",
            "Requirement already satisfied: scipy in /usr/local/lib/python3.6/dist-packages (0.19.1)\n",
            "Requirement already satisfied: numpy>=1.8.2 in /usr/local/lib/python3.6/dist-packages (from scipy) (1.14.6)\n",
            "Collecting lightfm\n",
            "\u001b[?25l  Downloading https://files.pythonhosted.org/packages/e9/8e/5485ac5a8616abe1c673d1e033e2f232b4319ab95424b42499fabff2257f/lightfm-1.15.tar.gz (302kB)\n",
            "\u001b[K    100% |████████████████████████████████| 307kB 7.1MB/s \n",
            "\u001b[?25hRequirement already satisfied: numpy in /usr/local/lib/python3.6/dist-packages (from lightfm) (1.14.6)\n",
            "Requirement already satisfied: scipy>=0.17.0 in /usr/local/lib/python3.6/dist-packages (from lightfm) (0.19.1)\n",
            "Requirement already satisfied: requests in /usr/local/lib/python3.6/dist-packages (from lightfm) (2.18.4)\n",
            "Requirement already satisfied: chardet<3.1.0,>=3.0.2 in /usr/local/lib/python3.6/dist-packages (from requests->lightfm) (3.0.4)\n",
            "Requirement already satisfied: idna<2.7,>=2.5 in /usr/local/lib/python3.6/dist-packages (from requests->lightfm) (2.6)\n",
            "Requirement already satisfied: urllib3<1.23,>=1.21.1 in /usr/local/lib/python3.6/dist-packages (from requests->lightfm) (1.22)\n",
            "Requirement already satisfied: certifi>=2017.4.17 in /usr/local/lib/python3.6/dist-packages (from requests->lightfm) (2018.10.15)\n",
            "Building wheels for collected packages: lightfm\n",
            "  Running setup.py bdist_wheel for lightfm ... \u001b[?25l-\b \b\\\b \b|\b \b/\b \bdone\n",
            "\u001b[?25h  Stored in directory: /root/.cache/pip/wheels/eb/bb/ac/188385a5da6627956be5d9663928483b36da576149ab5b8f79\n",
            "Successfully built lightfm\n",
            "Installing collected packages: lightfm\n",
            "Successfully installed lightfm-1.15\n"
          ],
          "name": "stdout"
        }
      ]
    },
    {
      "metadata": {
        "id": "zJXeo7MNEj1G",
        "colab_type": "code",
        "colab": {
          "base_uri": "https://localhost:8080/",
          "height": 544
        },
        "outputId": "3f93df1b-8289-430b-de21-217f84442d4b"
      },
      "cell_type": "code",
      "source": [
        "#Components used\n",
        "import numpy as np\n",
        "from lightfm.datasets import fetch_movielens\n",
        "from lightfm import LightFM\n",
        "\n",
        "#fetch Data\n",
        "data = fetch_movielens(min_rating = 4.0)\n",
        "\n",
        "#Print train and test conditions\n",
        "print(repr(data['train']))\n",
        "print(repr(data['test']))\n",
        "\n",
        "#create and train\n",
        "model = LightFM(loss = 'warp')\n",
        "model.fit(data['train'], epochs = 30)\n",
        "\n",
        "#function for sampling recommendations\n",
        "def sample_recommendations(model, data, user_ids):\n",
        "  n_users, n_items = data['train'].shape\n",
        "  \n",
        "  for user_id in user_ids:\n",
        "    known_positives = data['item_labels'][data['train'].tocsr()[user_id].indices]\n",
        "    \n",
        "    #predict what the user likes\n",
        "    scores = model.predict(user_id, np.arange(n_items))\n",
        "    \n",
        "    #arrange them from most liked to least\n",
        "    top_items = data['item_labels'][np.argsort(-scores)]\n",
        "    \n",
        "    #results\n",
        "    print(\"User \" + str(user_id))\n",
        "    print(\"   Known Positives:\")\n",
        "    \n",
        "    for positive in known_positives[:3]:\n",
        "      print(\"      \" + positive)\n",
        "      \n",
        "    print(\"   Top Recommendations:\")\n",
        "    for item in top_items[:3]:\n",
        "      print(\"      \" + item)\n",
        "      \n",
        "\n",
        "sample_recommendations(model, data, [1,2,3])\n"
      ],
      "execution_count": 10,
      "outputs": [
        {
          "output_type": "stream",
          "text": [
            "<943x1682 sparse matrix of type '<class 'numpy.int32'>'\n",
            "\twith 49906 stored elements in COOrdinate format>\n",
            "<943x1682 sparse matrix of type '<class 'numpy.int32'>'\n",
            "\twith 5469 stored elements in COOrdinate format>\n",
            "User 1\n",
            "   Known Positives:\n",
            "      Toy Story (1995)\n",
            "      Postino, Il (1994)\n",
            "      Birdcage, The (1996)\n",
            "   Top Recommendations:\n",
            "      English Patient, The (1996)\n",
            "      Contact (1997)\n",
            "      Titanic (1997)\n",
            "User 2\n",
            "   Known Positives:\n",
            "      Return of the Jedi (1983)\n",
            "      Event Horizon (1997)\n",
            "      Schindler's List (1993)\n",
            "   Top Recommendations:\n",
            "      L.A. Confidential (1997)\n",
            "      Titanic (1997)\n",
            "      English Patient, The (1996)\n",
            "User 3\n",
            "   Known Positives:\n",
            "      Seven (Se7en) (1995)\n",
            "      Contact (1997)\n",
            "      Starship Troopers (1997)\n",
            "   Top Recommendations:\n",
            "      Air Force One (1997)\n",
            "      Scream (1996)\n",
            "      Titanic (1997)\n"
          ],
          "name": "stdout"
        }
      ]
    },
    {
      "metadata": {
        "id": "rIcvQ157ImPU",
        "colab_type": "code",
        "colab": {}
      },
      "cell_type": "code",
      "source": [
        ""
      ],
      "execution_count": 0,
      "outputs": []
    }
  ]
}