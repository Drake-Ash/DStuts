{
  "nbformat": 4,
  "nbformat_minor": 0,
  "metadata": {
    "colab": {
      "name": "Untitled1.ipynb",
      "version": "0.3.2",
      "provenance": [],
      "include_colab_link": true
    },
    "kernelspec": {
      "name": "python3",
      "display_name": "Python 3"
    }
  },
  "cells": [
    {
      "cell_type": "markdown",
      "metadata": {
        "id": "view-in-github",
        "colab_type": "text"
      },
      "source": [
        "<a href=\"https://colab.research.google.com/github/Drake-Ash/DStuts/blob/master/vid2.ipynb\" target=\"_parent\"><img src=\"https://colab.research.google.com/assets/colab-badge.svg\" alt=\"Open In Colab\"/></a>"
      ]
    },
    {
      "metadata": {
        "id": "OqUAhQHfMHwj",
        "colab_type": "code",
        "colab": {
          "base_uri": "https://localhost:8080/",
          "height": 479
        },
        "outputId": "4f37b961-1b94-4166-9c53-55683cea21f0"
      },
      "cell_type": "code",
      "source": [
        "#Installing dependencies for a tweets analysis\n",
        "!pip3 install textblob\n",
        "!pip3 install tweepy"
      ],
      "execution_count": 1,
      "outputs": [
        {
          "output_type": "stream",
          "text": [
            "Collecting textblob\n",
            "\u001b[?25l  Downloading https://files.pythonhosted.org/packages/11/18/7f55c8be6d68ddc4036ffda5382ca51e23a1075987f708b9123712091af1/textblob-0.15.1-py2.py3-none-any.whl (631kB)\n",
            "\u001b[K    100% |████████████████████████████████| 634kB 7.6MB/s \n",
            "\u001b[?25hRequirement already satisfied: nltk>=3.1 in /usr/local/lib/python3.6/dist-packages (from textblob) (3.2.5)\n",
            "Requirement already satisfied: six in /usr/local/lib/python3.6/dist-packages (from nltk>=3.1->textblob) (1.11.0)\n",
            "Installing collected packages: textblob\n",
            "Successfully installed textblob-0.15.1\n",
            "Collecting tweepy\n",
            "  Downloading https://files.pythonhosted.org/packages/05/f1/2e8c7b202dd04117a378ac0c55cc7dafa80280ebd7f692f1fa8f27fd6288/tweepy-3.6.0-py2.py3-none-any.whl\n",
            "Requirement already satisfied: requests>=2.11.1 in /usr/local/lib/python3.6/dist-packages (from tweepy) (2.18.4)\n",
            "Requirement already satisfied: six>=1.10.0 in /usr/local/lib/python3.6/dist-packages (from tweepy) (1.11.0)\n",
            "Requirement already satisfied: requests-oauthlib>=0.7.0 in /usr/local/lib/python3.6/dist-packages (from tweepy) (1.0.0)\n",
            "Collecting PySocks>=1.5.7 (from tweepy)\n",
            "\u001b[?25l  Downloading https://files.pythonhosted.org/packages/53/12/6bf1d764f128636cef7408e8156b7235b150ea31650d0260969215bb8e7d/PySocks-1.6.8.tar.gz (283kB)\n",
            "\u001b[K    100% |████████████████████████████████| 286kB 9.9MB/s \n",
            "\u001b[?25hRequirement already satisfied: idna<2.7,>=2.5 in /usr/local/lib/python3.6/dist-packages (from requests>=2.11.1->tweepy) (2.6)\n",
            "Requirement already satisfied: chardet<3.1.0,>=3.0.2 in /usr/local/lib/python3.6/dist-packages (from requests>=2.11.1->tweepy) (3.0.4)\n",
            "Requirement already satisfied: certifi>=2017.4.17 in /usr/local/lib/python3.6/dist-packages (from requests>=2.11.1->tweepy) (2018.10.15)\n",
            "Requirement already satisfied: urllib3<1.23,>=1.21.1 in /usr/local/lib/python3.6/dist-packages (from requests>=2.11.1->tweepy) (1.22)\n",
            "Requirement already satisfied: oauthlib>=0.6.2 in /usr/local/lib/python3.6/dist-packages (from requests-oauthlib>=0.7.0->tweepy) (2.1.0)\n",
            "Building wheels for collected packages: PySocks\n",
            "  Running setup.py bdist_wheel for PySocks ... \u001b[?25l-\b \bdone\n",
            "\u001b[?25h  Stored in directory: /root/.cache/pip/wheels/22/5c/b5/12e0dfdfa85bea67b23628b6425fae715c687e947a45ee3df9\n",
            "Successfully built PySocks\n",
            "Installing collected packages: PySocks, tweepy\n",
            "Successfully installed PySocks-1.6.8 tweepy-3.6.0\n"
          ],
          "name": "stdout"
        }
      ]
    },
    {
      "metadata": {
        "id": "on8Z5jdbMsr5",
        "colab_type": "code",
        "colab": {
          "base_uri": "https://localhost:8080/",
          "height": 357
        },
        "outputId": "34bab133-2b6b-4e2a-ba95-6ee8bb300741"
      },
      "cell_type": "code",
      "source": [
        "#Code for tweet analysis\n",
        "import tweepy\n",
        "from textblob import TextBlob\n",
        "\n",
        "consumer_key = 'fPArTJC6bs7VceLchJKSffafv'\n",
        "consumer_secret = '9uoJqYUPNwWb8oU5UZLl2g0cisUEAvt6E2RasOyTZqy5k7KOZQ'\n",
        "\n",
        "access_token = '802813499177074689-CRXj8haDQk6KAOWRft9SRsR184Xact5'\n",
        "access_token_secret = '5YSZGnIGOChthDAKKFy7YxSBVV7ZMn1NGy8FQBfrXfGfi'\n",
        "\n",
        "auth = tweepy.OAuthHandler(consumer_key, consumer_secret)\n",
        "auth.set_access_token(access_token, access_token_secret)\n",
        "\n",
        "API = tweepy.API(auth)\n",
        "\n",
        "tweets = API.search(\"Hitler\")\n",
        "\n",
        "for tweet in tweets:\n",
        "    print(tweet.text)\n",
        "    analysis = TextBlob(tweet.text)\n",
        "    print(analysis.sentiment)\n"
      ],
      "execution_count": 2,
      "outputs": [
        {
          "output_type": "stream",
          "text": [
            "RT @RefuseFascism: This history lesson of Nazi Germany shows how Parliament thought they could control Hitler.\n",
            "\n",
            "The lesson for today: \n",
            "\n",
            "You…\n",
            "Sentiment(polarity=0.0, subjectivity=0.0)\n",
            "RT @FXMC1957: I’d choose Alan Turing for the new £50 note. A pioneering scientist who helped in the drive to defeat Hitler and was unjustly…\n",
            "Sentiment(polarity=0.13636363636363635, subjectivity=0.45454545454545453)\n",
            "RT @historylvrsclub: The last photo of Adolf Hitler giving Iron Crosses to the Hitler Youth members. Berlin, 1945 https://t.co/IQvkvsWDV5\n",
            "Sentiment(polarity=0.0, subjectivity=0.06666666666666667)\n",
            "RT @el_branbran: Bruh, that’s Adolf Hitler. https://t.co/ncNSYmel5d\n",
            "Sentiment(polarity=0.0, subjectivity=0.0)\n",
            "@brasil247 @marciatiburi Os adapto do espírito de Adolf Hitler Nazista são perdedores!!\n",
            "\n",
            "Por q eles não tem legitim… https://t.co/pBzwLpsOfV\n",
            "Sentiment(polarity=0.0, subjectivity=0.0)\n",
            "This was the most under reported thing during the 2016 campaign, only one journalist interviewed Trump where he sai… https://t.co/n8aHpNp3et\n",
            "Sentiment(polarity=0.25, subjectivity=0.75)\n",
            "@Albert_Rivera Efectivamente. Hay que condenar la violencia de los nacionalismos. Hitler, Mussolini, Franco los pri… https://t.co/dIGyCzrJ0B\n",
            "Sentiment(polarity=0.0, subjectivity=0.0)\n"
          ],
          "name": "stdout"
        }
      ]
    },
    {
      "metadata": {
        "id": "SbXmVOZ6WpGv",
        "colab_type": "code",
        "colab": {}
      },
      "cell_type": "code",
      "source": [
        ""
      ],
      "execution_count": 0,
      "outputs": []
    }
  ]
}
